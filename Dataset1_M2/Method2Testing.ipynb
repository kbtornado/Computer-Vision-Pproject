{
 "cells": [
  {
   "cell_type": "code",
   "execution_count": 1,
   "metadata": {},
   "outputs": [
    {
     "name": "stdout",
     "output_type": "stream",
     "text": [
      "Requirement already satisfied: joblib in c:\\users\\lenovo\\anaconda3\\lib\\site-packages (1.1.0)\n"
     ]
    }
   ],
   "source": [
    "import os\n",
    "import cv2\n",
    "import numpy as np\n",
    "import pandas as pd\n",
    "from skimage.feature import hog\n",
    "import joblib\n",
    "!pip install joblib"
   ]
  },
  {
   "cell_type": "markdown",
   "metadata": {},
   "source": [
    "Test with champion model XGBoost"
   ]
  },
  {
   "cell_type": "code",
   "execution_count": 2,
   "metadata": {},
   "outputs": [
    {
     "name": "stdout",
     "output_type": "stream",
     "text": [
      "File: bad_results_for_method2\\meningioma_tumor_and_result_is_wrong.jpg Prediction: Pituitary Tumor\n",
      "File: bad_results_for_method2\\no_tumor_and_ result_is_wrong.jpg Prediction: No Tumor\n"
     ]
    }
   ],
   "source": [
    "# Önceden eğitilmiş PCA ve XGBoost modellerinin yolları\n",
    "pca_model_path = 'PCA_model.sav'\n",
    "xgb_model_path = 'xgb.sav'\n",
    "\n",
    "# Okunan resimlerin bulunduğu klasör yolu\n",
    "folder_path = 'bad_results_for_method2'  # Klasör yolunu belirtin\n",
    "\n",
    "# Yüklenen PCA modelini kullanarak boyut azaltma işlemi yapar\n",
    "def apply_pca(features):\n",
    "    pca = joblib.load(pca_model_path)\n",
    "    features_pca = pca.transform(features)\n",
    "    return features_pca\n",
    "\n",
    "# Yüklenen XGBoost modelini kullanarak sınıflandırma yapar\n",
    "def classify_with_xgb(features):\n",
    "    loaded_model = joblib.load(xgb_model_path)\n",
    "    predictions = loaded_model.predict(features)\n",
    "    return predictions\n",
    "\n",
    "# Klasördeki tüm resim dosyalarını okur\n",
    "def read_images(folder_path):\n",
    "    image_paths = []\n",
    "    for filename in os.listdir(folder_path):\n",
    "        if filename.endswith('.jpg') or filename.endswith('.jpeg') or filename.endswith('.png'):\n",
    "            img_path = os.path.join(folder_path, filename)\n",
    "            image_paths.append(img_path)\n",
    "    return image_paths\n",
    "\n",
    "# Ana işlemleri gerçekleştirir\n",
    "def process_images(image_paths):\n",
    "    results = []\n",
    "    for img_path in image_paths:\n",
    "        # Resmi oku\n",
    "        img = cv2.imread(img_path)\n",
    "\n",
    "        # Yeniden boyutlandırma\n",
    "        resized_img = cv2.resize(img, (200, 200))\n",
    "\n",
    "        # Gri tonlama ve median bulanıklaştırma\n",
    "        gray = cv2.cvtColor(resized_img, cv2.COLOR_BGR2GRAY)\n",
    "        median_img = cv2.medianBlur(gray, 3)\n",
    "\n",
    "        # HOG özellik çıkarımı\n",
    "        fd, hog_image = hog(median_img, orientations=6, pixels_per_cell=(4, 4), transform_sqrt=True, cells_per_block=(1, 1), visualize=True)\n",
    "\n",
    "        # Özellikleri DataFrame formatına dönüştürme ve PCA'ya uygulama\n",
    "        df = pd.DataFrame(fd)\n",
    "        df_transposed = df.transpose()\n",
    "        fd_pca = apply_pca(df_transposed)\n",
    "\n",
    "        # Sınıflandırma yapma\n",
    "        prediction = classify_with_xgb(fd_pca)\n",
    "\n",
    "        results.append((img_path, prediction))\n",
    "\n",
    "    return results\n",
    "\n",
    "# Sonuçları yazdırma\n",
    "def print_results(results):\n",
    "    for img_path, prediction in results:\n",
    "        if prediction == 0:\n",
    "            print(\"File:\", img_path, \"Prediction: Glioma Tumor\")\n",
    "        elif prediction == 1:\n",
    "            print(\"File:\", img_path, \"Prediction: Meningioma Tumor\")\n",
    "        elif prediction == 2:\n",
    "            print(\"File:\", img_path, \"Prediction: No Tumor\")\n",
    "        elif prediction == 3:\n",
    "            print(\"File:\", img_path, \"Prediction: Pituitary Tumor\")\n",
    "\n",
    "# Ana fonksiyon\n",
    "def main():\n",
    "    image_paths = read_images(folder_path)\n",
    "    results = process_images(image_paths)\n",
    "    print_results(results)\n",
    "\n",
    "if __name__ == \"__main__\":\n",
    "    main()"
   ]
  },
  {
   "cell_type": "code",
   "execution_count": 3,
   "metadata": {},
   "outputs": [
    {
     "name": "stdout",
     "output_type": "stream",
     "text": [
      "Confusion Matrix:\n",
      " [[1 0 0 0]\n",
      " [0 0 0 1]\n",
      " [0 0 2 0]\n",
      " [0 0 0 0]]\n",
      "Accuracy: 0.75\n",
      "Precision: 0.5\n",
      "Recall: 0.5\n",
      "F1 Score: 0.5\n"
     ]
    },
    {
     "name": "stderr",
     "output_type": "stream",
     "text": [
      "C:\\Users\\lenovo\\anaconda3\\lib\\site-packages\\sklearn\\metrics\\_classification.py:1318: UndefinedMetricWarning: Precision is ill-defined and being set to 0.0 in labels with no predicted samples. Use `zero_division` parameter to control this behavior.\n",
      "  _warn_prf(average, modifier, msg_start, len(result))\n",
      "C:\\Users\\lenovo\\anaconda3\\lib\\site-packages\\sklearn\\metrics\\_classification.py:1318: UndefinedMetricWarning: Recall is ill-defined and being set to 0.0 in labels with no true samples. Use `zero_division` parameter to control this behavior.\n",
      "  _warn_prf(average, modifier, msg_start, len(result))\n"
     ]
    },
    {
     "data": {
      "image/png": "[encoded data removed]",
      "text/plain": [
       "<Figure size 432x288 with 2 Axes>"
      ]
     },
     "metadata": {
      "needs_background": "light"
     },
     "output_type": "display_data"
    }
   ],
   "source": [
    "import os\n",
    "import cv2\n",
    "import joblib\n",
    "import numpy as np\n",
    "import pandas as pd\n",
    "from skimage.feature import hog\n",
    "from sklearn.metrics import confusion_matrix, accuracy_score, precision_score, recall_score, f1_score\n",
    "import seaborn as sns\n",
    "import matplotlib.pyplot as plt\n",
    "\n",
    "# Önceden eğitilmiş PCA ve XGBoost modellerinin yolları\n",
    "pca_model_path = 'PCA_model.sav'\n",
    "xgb_model_path = 'xgb.sav'\n",
    "\n",
    "# Okunan resimlerin bulunduğu klasör yolu\n",
    "folder_path = 'test_jpegs'\n",
    "\n",
    "def load_pca_model():\n",
    "    pca = joblib.load(pca_model_path)\n",
    "    return pca\n",
    "\n",
    "def load_xgb_model():\n",
    "    xgb = joblib.load(xgb_model_path)\n",
    "    return xgb\n",
    "\n",
    "def read_and_preprocess_image(img_path):\n",
    "    img = cv2.imread(img_path)\n",
    "    resized_img = cv2.resize(img, (200, 200))\n",
    "    gray = cv2.cvtColor(resized_img, cv2.COLOR_BGR2GRAY)\n",
    "    median_img = cv2.medianBlur(gray, 3)\n",
    "    fd, _ = hog(median_img, orientations=6, pixels_per_cell=(4, 4), transform_sqrt=True, cells_per_block=(1, 1), visualize=True)\n",
    "    return fd\n",
    "\n",
    "def apply_pca_and_classify(features, pca, xgb):\n",
    "    features_pca = pca.transform([features])\n",
    "    prediction = xgb.predict(features_pca)\n",
    "    return prediction\n",
    "\n",
    "def process_images(folder_path, pca, xgb):\n",
    "    image_paths = [os.path.join(folder_path, f) for f in os.listdir(folder_path) if f.endswith(('.jpg', '.jpeg', '.png'))]\n",
    "    predictions = []\n",
    "    for img_path in image_paths:\n",
    "        features = read_and_preprocess_image(img_path)\n",
    "        prediction = apply_pca_and_classify(features, pca, xgb)\n",
    "        predictions.append(prediction[0])\n",
    "    return predictions\n",
    "\n",
    "def calculate_metrics(y_true, y_pred):\n",
    "    cm = confusion_matrix(y_true, y_pred)\n",
    "    accuracy = accuracy_score(y_true, y_pred)\n",
    "    precision = precision_score(y_true, y_pred, average='macro')\n",
    "    recall = recall_score(y_true, y_pred, average='macro')\n",
    "    f1 = f1_score(y_true, y_pred, average='macro')\n",
    "    return cm, accuracy, precision, recall, f1\n",
    "\n",
    "def main(folder_path):\n",
    "    pca = load_pca_model()\n",
    "    xgb = load_xgb_model()\n",
    "    y_pred = process_images(folder_path, pca, xgb)\n",
    "    \n",
    "    \n",
    "    y_true = [0,1,2,2]  # Gerçek sınıf etiketleri\n",
    "\n",
    "    cm, accuracy, precision, recall, f1 = calculate_metrics(y_true, y_pred)\n",
    "\n",
    "    print(\"Confusion Matrix:\\n\", cm)\n",
    "    print(\"Accuracy:\", accuracy)\n",
    "    print(\"Precision:\", precision)\n",
    "    print(\"Recall:\", recall)\n",
    "    print(\"F1 Score:\", f1)\n",
    "    sns.heatmap(cm, \n",
    "            annot=True,\n",
    "            fmt='g', )\n",
    "\n",
    "if __name__ == \"__main__\":\n",
    "    main(folder_path)\n"
   ]
  },
  {
   "cell_type": "code",
   "execution_count": null,
   "metadata": {},
   "outputs": [],
   "source": []
  }
 ],
 "metadata": {
  "kernelspec": {
   "display_name": "Python 3 (ipykernel)",
   "language": "python",
   "name": "python3"
  },
  "language_info": {
   "codemirror_mode": {
    "name": "ipython",
    "version": 3
   },
   "file_extension": ".py",
   "mimetype": "text/x-python",
   "name": "python",
   "nbconvert_exporter": "python",
   "pygments_lexer": "ipython3",
   "version": "3.9.12"
  }
 },
 "nbformat": 4,
 "nbformat_minor": 2
}
